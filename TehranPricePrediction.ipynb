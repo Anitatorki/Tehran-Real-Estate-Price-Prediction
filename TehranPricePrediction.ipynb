{
 "cells": [
  {
   "cell_type": "code",
   "execution_count": 10,
   "id": "6a1958a7-ce1a-4736-8b7e-afcb0985ea51",
   "metadata": {},
   "outputs": [],
   "source": [
    "import matplotlib.pyplot as plt\n",
    "import pandas as pd\n",
    "import pylab as pl \n",
    "import numpy as np\n",
    "from sklearn.model_selection import train_test_split\n",
    "from sklearn.linear_model import LinearRegression\n",
    "from sklearn.metrics import mean_absolute_error, mean_squared_error, r2_score\n",
    "%matplotlib inline"
   ]
  },
  {
   "cell_type": "code",
   "execution_count": 11,
   "id": "3ddceae0-723b-4226-9fa6-8a7d1ed7e228",
   "metadata": {},
   "outputs": [
    {
     "data": {
      "text/html": [
       "<div>\n",
       "<style scoped>\n",
       "    .dataframe tbody tr th:only-of-type {\n",
       "        vertical-align: middle;\n",
       "    }\n",
       "\n",
       "    .dataframe tbody tr th {\n",
       "        vertical-align: top;\n",
       "    }\n",
       "\n",
       "    .dataframe thead th {\n",
       "        text-align: right;\n",
       "    }\n",
       "</style>\n",
       "<table border=\"1\" class=\"dataframe\">\n",
       "  <thead>\n",
       "    <tr style=\"text-align: right;\">\n",
       "      <th></th>\n",
       "      <th>Area</th>\n",
       "      <th>Room</th>\n",
       "      <th>Parking</th>\n",
       "      <th>Warehouse</th>\n",
       "      <th>Elevator</th>\n",
       "      <th>Address</th>\n",
       "      <th>Price</th>\n",
       "      <th>Price(USD)</th>\n",
       "    </tr>\n",
       "  </thead>\n",
       "  <tbody>\n",
       "    <tr>\n",
       "      <th>0</th>\n",
       "      <td>63</td>\n",
       "      <td>1</td>\n",
       "      <td>True</td>\n",
       "      <td>True</td>\n",
       "      <td>True</td>\n",
       "      <td>Shahran</td>\n",
       "      <td>1.850000e+09</td>\n",
       "      <td>61666.67</td>\n",
       "    </tr>\n",
       "    <tr>\n",
       "      <th>1</th>\n",
       "      <td>60</td>\n",
       "      <td>1</td>\n",
       "      <td>True</td>\n",
       "      <td>True</td>\n",
       "      <td>True</td>\n",
       "      <td>Shahran</td>\n",
       "      <td>1.850000e+09</td>\n",
       "      <td>61666.67</td>\n",
       "    </tr>\n",
       "    <tr>\n",
       "      <th>2</th>\n",
       "      <td>79</td>\n",
       "      <td>2</td>\n",
       "      <td>True</td>\n",
       "      <td>True</td>\n",
       "      <td>True</td>\n",
       "      <td>Pardis</td>\n",
       "      <td>5.500000e+08</td>\n",
       "      <td>18333.33</td>\n",
       "    </tr>\n",
       "    <tr>\n",
       "      <th>3</th>\n",
       "      <td>95</td>\n",
       "      <td>2</td>\n",
       "      <td>True</td>\n",
       "      <td>True</td>\n",
       "      <td>True</td>\n",
       "      <td>Shahrake Qods</td>\n",
       "      <td>9.025000e+08</td>\n",
       "      <td>30083.33</td>\n",
       "    </tr>\n",
       "    <tr>\n",
       "      <th>4</th>\n",
       "      <td>123</td>\n",
       "      <td>2</td>\n",
       "      <td>True</td>\n",
       "      <td>True</td>\n",
       "      <td>True</td>\n",
       "      <td>Shahrake Gharb</td>\n",
       "      <td>7.000000e+09</td>\n",
       "      <td>233333.33</td>\n",
       "    </tr>\n",
       "  </tbody>\n",
       "</table>\n",
       "</div>"
      ],
      "text/plain": [
       "  Area  Room  Parking  Warehouse  Elevator         Address         Price  \\\n",
       "0   63     1     True       True      True         Shahran  1.850000e+09   \n",
       "1   60     1     True       True      True         Shahran  1.850000e+09   \n",
       "2   79     2     True       True      True          Pardis  5.500000e+08   \n",
       "3   95     2     True       True      True   Shahrake Qods  9.025000e+08   \n",
       "4  123     2     True       True      True  Shahrake Gharb  7.000000e+09   \n",
       "\n",
       "   Price(USD)  \n",
       "0    61666.67  \n",
       "1    61666.67  \n",
       "2    18333.33  \n",
       "3    30083.33  \n",
       "4   233333.33  "
      ]
     },
     "execution_count": 11,
     "metadata": {},
     "output_type": "execute_result"
    }
   ],
   "source": [
    "df = pd.read_csv(\"housePrice.csv\")\n",
    "df.head()"
   ]
  },
  {
   "cell_type": "code",
   "execution_count": 12,
   "id": "46cc2eec-75f9-4537-99da-bd4a12285fcf",
   "metadata": {},
   "outputs": [
    {
     "name": "stdout",
     "output_type": "stream",
     "text": [
      "<class 'pandas.core.frame.DataFrame'>\n",
      "RangeIndex: 3479 entries, 0 to 3478\n",
      "Data columns (total 8 columns):\n",
      " #   Column      Non-Null Count  Dtype  \n",
      "---  ------      --------------  -----  \n",
      " 0   Area        3479 non-null   object \n",
      " 1   Room        3479 non-null   int64  \n",
      " 2   Parking     3479 non-null   bool   \n",
      " 3   Warehouse   3479 non-null   bool   \n",
      " 4   Elevator    3479 non-null   bool   \n",
      " 5   Address     3456 non-null   object \n",
      " 6   Price       3479 non-null   float64\n",
      " 7   Price(USD)  3479 non-null   float64\n",
      "dtypes: bool(3), float64(2), int64(1), object(2)\n",
      "memory usage: 146.2+ KB\n"
     ]
    }
   ],
   "source": [
    "df.info()"
   ]
  },
  {
   "cell_type": "code",
   "execution_count": 13,
   "id": "7d7df5a8-d81c-4a73-95aa-5c0c03b6bb2f",
   "metadata": {},
   "outputs": [
    {
     "name": "stdout",
     "output_type": "stream",
     "text": [
      "Area           0\n",
      "Room           0\n",
      "Parking        0\n",
      "Warehouse      0\n",
      "Elevator       0\n",
      "Address       23\n",
      "Price          0\n",
      "Price(USD)     0\n",
      "dtype: int64\n"
     ]
    }
   ],
   "source": [
    "print(df.isnull().sum())\n"
   ]
  },
  {
   "cell_type": "code",
   "execution_count": 14,
   "id": "9c6408f5-c044-46b4-84e3-a4d348d3c97e",
   "metadata": {},
   "outputs": [
    {
     "data": {
      "text/html": [
       "<div>\n",
       "<style scoped>\n",
       "    .dataframe tbody tr th:only-of-type {\n",
       "        vertical-align: middle;\n",
       "    }\n",
       "\n",
       "    .dataframe tbody tr th {\n",
       "        vertical-align: top;\n",
       "    }\n",
       "\n",
       "    .dataframe thead th {\n",
       "        text-align: right;\n",
       "    }\n",
       "</style>\n",
       "<table border=\"1\" class=\"dataframe\">\n",
       "  <thead>\n",
       "    <tr style=\"text-align: right;\">\n",
       "      <th></th>\n",
       "      <th>Room</th>\n",
       "      <th>Price</th>\n",
       "      <th>Price(USD)</th>\n",
       "    </tr>\n",
       "  </thead>\n",
       "  <tbody>\n",
       "    <tr>\n",
       "      <th>count</th>\n",
       "      <td>3479.000000</td>\n",
       "      <td>3.479000e+03</td>\n",
       "      <td>3.479000e+03</td>\n",
       "    </tr>\n",
       "    <tr>\n",
       "      <th>mean</th>\n",
       "      <td>2.079908</td>\n",
       "      <td>5.359023e+09</td>\n",
       "      <td>1.786341e+05</td>\n",
       "    </tr>\n",
       "    <tr>\n",
       "      <th>std</th>\n",
       "      <td>0.758275</td>\n",
       "      <td>8.099935e+09</td>\n",
       "      <td>2.699978e+05</td>\n",
       "    </tr>\n",
       "    <tr>\n",
       "      <th>min</th>\n",
       "      <td>0.000000</td>\n",
       "      <td>3.600000e+06</td>\n",
       "      <td>1.200000e+02</td>\n",
       "    </tr>\n",
       "    <tr>\n",
       "      <th>25%</th>\n",
       "      <td>2.000000</td>\n",
       "      <td>1.418250e+09</td>\n",
       "      <td>4.727500e+04</td>\n",
       "    </tr>\n",
       "    <tr>\n",
       "      <th>50%</th>\n",
       "      <td>2.000000</td>\n",
       "      <td>2.900000e+09</td>\n",
       "      <td>9.666667e+04</td>\n",
       "    </tr>\n",
       "    <tr>\n",
       "      <th>75%</th>\n",
       "      <td>2.000000</td>\n",
       "      <td>6.000000e+09</td>\n",
       "      <td>2.000000e+05</td>\n",
       "    </tr>\n",
       "    <tr>\n",
       "      <th>max</th>\n",
       "      <td>5.000000</td>\n",
       "      <td>9.240000e+10</td>\n",
       "      <td>3.080000e+06</td>\n",
       "    </tr>\n",
       "  </tbody>\n",
       "</table>\n",
       "</div>"
      ],
      "text/plain": [
       "              Room         Price    Price(USD)\n",
       "count  3479.000000  3.479000e+03  3.479000e+03\n",
       "mean      2.079908  5.359023e+09  1.786341e+05\n",
       "std       0.758275  8.099935e+09  2.699978e+05\n",
       "min       0.000000  3.600000e+06  1.200000e+02\n",
       "25%       2.000000  1.418250e+09  4.727500e+04\n",
       "50%       2.000000  2.900000e+09  9.666667e+04\n",
       "75%       2.000000  6.000000e+09  2.000000e+05\n",
       "max       5.000000  9.240000e+10  3.080000e+06"
      ]
     },
     "execution_count": 14,
     "metadata": {},
     "output_type": "execute_result"
    }
   ],
   "source": [
    "df.describe()"
   ]
  },
  {
   "cell_type": "code",
   "execution_count": 15,
   "id": "734772e2-f34a-4dfe-babb-ce57fb115e4a",
   "metadata": {},
   "outputs": [],
   "source": [
    "df_cleaned = df.dropna(subset=['Address'])\n"
   ]
  },
  {
   "cell_type": "code",
   "execution_count": 16,
   "id": "bfa448e5-0f4b-4b67-a686-580c736bc5f7",
   "metadata": {},
   "outputs": [
    {
     "name": "stderr",
     "output_type": "stream",
     "text": [
      "C:\\Users\\Anita\\AppData\\Local\\Temp\\ipykernel_8040\\1307882010.py:1: SettingWithCopyWarning: \n",
      "A value is trying to be set on a copy of a slice from a DataFrame.\n",
      "Try using .loc[row_indexer,col_indexer] = value instead\n",
      "\n",
      "See the caveats in the documentation: https://pandas.pydata.org/pandas-docs/stable/user_guide/indexing.html#returning-a-view-versus-a-copy\n",
      "  df_cleaned['Area'] = pd.to_numeric(df_cleaned['Area'], errors='coerce')\n"
     ]
    }
   ],
   "source": [
    "\n",
    "df_cleaned['Area'] = pd.to_numeric(df_cleaned['Area'], errors='coerce')\n"
   ]
  },
  {
   "cell_type": "code",
   "execution_count": 17,
   "id": "7ab36941-2342-46d4-8f3b-0c92ac68edff",
   "metadata": {},
   "outputs": [],
   "source": [
    "df_cleaned = df_cleaned.dropna(subset=['Area'])\n",
    "df_cleaned = df_cleaned[df_cleaned['Area'] <= 1000]\n"
   ]
  },
  {
   "cell_type": "code",
   "execution_count": 18,
   "id": "37de8f2d-f098-4731-abe3-4f8032bb41f8",
   "metadata": {},
   "outputs": [
    {
     "data": {
      "text/html": [
       "<div>\n",
       "<style scoped>\n",
       "    .dataframe tbody tr th:only-of-type {\n",
       "        vertical-align: middle;\n",
       "    }\n",
       "\n",
       "    .dataframe tbody tr th {\n",
       "        vertical-align: top;\n",
       "    }\n",
       "\n",
       "    .dataframe thead th {\n",
       "        text-align: right;\n",
       "    }\n",
       "</style>\n",
       "<table border=\"1\" class=\"dataframe\">\n",
       "  <thead>\n",
       "    <tr style=\"text-align: right;\">\n",
       "      <th></th>\n",
       "      <th>Area</th>\n",
       "      <th>Room</th>\n",
       "      <th>Parking</th>\n",
       "      <th>Warehouse</th>\n",
       "      <th>Elevator</th>\n",
       "      <th>Address</th>\n",
       "      <th>Price</th>\n",
       "      <th>Price(USD)</th>\n",
       "    </tr>\n",
       "  </thead>\n",
       "  <tbody>\n",
       "    <tr>\n",
       "      <th>0</th>\n",
       "      <td>63.0</td>\n",
       "      <td>1</td>\n",
       "      <td>True</td>\n",
       "      <td>True</td>\n",
       "      <td>True</td>\n",
       "      <td>Shahran</td>\n",
       "      <td>1.850000e+09</td>\n",
       "      <td>61666.67</td>\n",
       "    </tr>\n",
       "    <tr>\n",
       "      <th>1</th>\n",
       "      <td>60.0</td>\n",
       "      <td>1</td>\n",
       "      <td>True</td>\n",
       "      <td>True</td>\n",
       "      <td>True</td>\n",
       "      <td>Shahran</td>\n",
       "      <td>1.850000e+09</td>\n",
       "      <td>61666.67</td>\n",
       "    </tr>\n",
       "    <tr>\n",
       "      <th>2</th>\n",
       "      <td>79.0</td>\n",
       "      <td>2</td>\n",
       "      <td>True</td>\n",
       "      <td>True</td>\n",
       "      <td>True</td>\n",
       "      <td>Pardis</td>\n",
       "      <td>5.500000e+08</td>\n",
       "      <td>18333.33</td>\n",
       "    </tr>\n",
       "    <tr>\n",
       "      <th>3</th>\n",
       "      <td>95.0</td>\n",
       "      <td>2</td>\n",
       "      <td>True</td>\n",
       "      <td>True</td>\n",
       "      <td>True</td>\n",
       "      <td>Shahrake Qods</td>\n",
       "      <td>9.025000e+08</td>\n",
       "      <td>30083.33</td>\n",
       "    </tr>\n",
       "    <tr>\n",
       "      <th>4</th>\n",
       "      <td>123.0</td>\n",
       "      <td>2</td>\n",
       "      <td>True</td>\n",
       "      <td>True</td>\n",
       "      <td>True</td>\n",
       "      <td>Shahrake Gharb</td>\n",
       "      <td>7.000000e+09</td>\n",
       "      <td>233333.33</td>\n",
       "    </tr>\n",
       "  </tbody>\n",
       "</table>\n",
       "</div>"
      ],
      "text/plain": [
       "    Area  Room  Parking  Warehouse  Elevator         Address         Price  \\\n",
       "0   63.0     1     True       True      True         Shahran  1.850000e+09   \n",
       "1   60.0     1     True       True      True         Shahran  1.850000e+09   \n",
       "2   79.0     2     True       True      True          Pardis  5.500000e+08   \n",
       "3   95.0     2     True       True      True   Shahrake Qods  9.025000e+08   \n",
       "4  123.0     2     True       True      True  Shahrake Gharb  7.000000e+09   \n",
       "\n",
       "   Price(USD)  \n",
       "0    61666.67  \n",
       "1    61666.67  \n",
       "2    18333.33  \n",
       "3    30083.33  \n",
       "4   233333.33  "
      ]
     },
     "execution_count": 18,
     "metadata": {},
     "output_type": "execute_result"
    }
   ],
   "source": [
    "df_cleaned.head()\n"
   ]
  },
  {
   "cell_type": "code",
   "execution_count": 19,
   "id": "1dc7c283-3b0f-4965-8a5d-253bd960481e",
   "metadata": {},
   "outputs": [
    {
     "data": {
      "image/png": "[encoded data removed]",
      "text/plain": [
       "<Figure size 640x480 with 1 Axes>"
      ]
     },
     "metadata": {},
     "output_type": "display_data"
    }
   ],
   "source": [
    "import seaborn as sns\n",
    "\n",
    "sns.histplot(df_cleaned['Area'], kde=True)\n",
    "plt.xlabel('Area')\n",
    "plt.ylabel('Frequency')\n",
    "plt.title('Distribution of Area')\n",
    "plt.show()"
   ]
  },
  {
   "cell_type": "code",
   "execution_count": 20,
   "id": "d6416b69-2a6b-4e20-bca3-f875a5db6a08",
   "metadata": {},
   "outputs": [],
   "source": [
    "numeric_df_cleaned = df_cleaned.select_dtypes(include=[np.number])\n"
   ]
  },
  {
   "cell_type": "code",
   "execution_count": 21,
   "id": "9d01fbad-d570-4c2f-b806-44baff78e101",
   "metadata": {},
   "outputs": [
    {
     "data": {
      "image/png": "[encoded data removed]",
      "text/plain": [
       "<Figure size 640x480 with 2 Axes>"
      ]
     },
     "metadata": {},
     "output_type": "display_data"
    }
   ],
   "source": [
    "correlation_matrix = numeric_df_cleaned.corr()\n",
    "sns.heatmap(correlation_matrix, annot=True)\n",
    "plt.title('Correlation')\n",
    "plt.show()"
   ]
  },
  {
   "cell_type": "code",
   "execution_count": 24,
   "id": "11eeb9ef-15bb-4ea0-943f-3b9c2e4c33ed",
   "metadata": {},
   "outputs": [
    {
     "name": "stdout",
     "output_type": "stream",
     "text": [
      "    Area  Room  Parking  Warehouse  Elevator         Price  Price(USD)  \\\n",
      "0   63.0     1     True       True      True  1.850000e+09    61666.67   \n",
      "1   60.0     1     True       True      True  1.850000e+09    61666.67   \n",
      "2   79.0     2     True       True      True  5.500000e+08    18333.33   \n",
      "3   95.0     2     True       True      True  9.025000e+08    30083.33   \n",
      "4  123.0     2     True       True      True  7.000000e+09   233333.33   \n",
      "\n",
      "   Address_Abazar  Address_Abbasabad  Address_Absard  ...  Address_Waterfall  \\\n",
      "0           False              False           False  ...              False   \n",
      "1           False              False           False  ...              False   \n",
      "2           False              False           False  ...              False   \n",
      "3           False              False           False  ...              False   \n",
      "4           False              False           False  ...              False   \n",
      "\n",
      "   Address_West Ferdows Boulevard  Address_West Pars  Address_Yaftabad  \\\n",
      "0                           False              False             False   \n",
      "1                           False              False             False   \n",
      "2                           False              False             False   \n",
      "3                           False              False             False   \n",
      "4                           False              False             False   \n",
      "\n",
      "   Address_Yakhchiabad  Address_Yousef Abad  Address_Zafar  \\\n",
      "0                False                False          False   \n",
      "1                False                False          False   \n",
      "2                False                False          False   \n",
      "3                False                False          False   \n",
      "4                False                False          False   \n",
      "\n",
      "   Address_Zaferanieh  Address_Zargandeh  Address_Zibadasht  \n",
      "0               False              False              False  \n",
      "1               False              False              False  \n",
      "2               False              False              False  \n",
      "3               False              False              False  \n",
      "4               False              False              False  \n",
      "\n",
      "[5 rows x 199 columns]\n"
     ]
    }
   ],
   "source": [
    "df_encoded = pd.get_dummies(df_cleaned, columns=['Address'])\n",
    "print(df_encoded.head())"
   ]
  },
  {
   "cell_type": "code",
   "execution_count": 32,
   "id": "23f606e2-9509-40fc-827c-d853a30f2e0d",
   "metadata": {},
   "outputs": [
    {
     "name": "stdout",
     "output_type": "stream",
     "text": [
      "(2760, 197) (690, 197) (2760,) (690,)\n"
     ]
    }
   ],
   "source": [
    "X = df_encoded.drop(['Price', 'Price(USD)'], axis=1)\n",
    "y = df_encoded['Price']\n",
    "X_train, X_test, y_train, y_test = train_test_split(X, y, test_size=0.2, random_state=42)\n",
    "print(X_train.shape, X_test.shape, y_train.shape, y_test.shape)"
   ]
  },
  {
   "cell_type": "code",
   "execution_count": 33,
   "id": "6ec8569f-6444-4cd5-89be-7c69096b3c32",
   "metadata": {},
   "outputs": [
    {
     "name": "stdout",
     "output_type": "stream",
     "text": [
      "Coefficients:  [ 7.24095855e+07  1.68286910e+08 -7.74789177e+08  3.16665568e+07\n",
      " -2.79441414e+08  3.03590111e+09  1.37726317e+09 -3.05611564e+10\n",
      " -3.01696121e+08 -1.57700181e+09 -1.68175711e+08 -5.33984704e+08\n",
      "  6.64951102e+09 -1.00681659e+09 -1.62178976e+09  1.49642771e+09\n",
      " -2.32921940e+09 -7.84201062e+08 -3.45357482e+09  6.43571723e+09\n",
      "  2.00320483e+09  0.00000000e+00 -2.14841270e+09 -1.30071739e+09\n",
      " -3.92449297e+08 -4.07529180e+08 -4.19673941e+09 -1.52587891e-05\n",
      " -2.80862687e+09 -1.02509086e+09 -1.24403462e+09  5.09681552e+08\n",
      " -2.57973156e+09 -4.76837158e-06  1.30284168e+08  2.86418333e+09\n",
      " -1.11236098e+10  2.16809465e+09  4.76837158e-06  1.83524206e+09\n",
      " -1.50159528e+09 -1.31834869e+09  4.51769422e+09 -5.76148919e+08\n",
      "  9.37652328e+09  3.81063887e+08 -3.44677645e+07  1.39199113e+09\n",
      "  3.02986723e+09  1.34621240e+10 -3.14752796e+08 -5.46274098e+08\n",
      " -2.13200258e+09  1.87908567e+08 -4.86662416e+08  1.01664701e+10\n",
      " -7.26391140e+08  7.74106318e+07 -2.29142811e+09 -8.58306885e-06\n",
      "  3.61044565e+10  5.74619333e+08  3.16537812e+09 -4.10079956e-05\n",
      "  1.85387205e+09  2.27688288e+09  1.60494148e+09 -2.32087972e+09\n",
      " -2.87412542e+09 -5.72467729e+08 -2.45179757e+08 -9.34784757e+08\n",
      "  4.90536408e+09  8.87724596e+08 -2.62852434e+09 -1.09524314e+09\n",
      " -2.51554179e+09  1.04904175e-05 -1.24077000e+09 -6.44663478e+08\n",
      "  2.52847687e+08 -3.18899978e+09  9.54660703e+09 -2.76674903e+08\n",
      " -7.01074504e+08 -1.34291965e+09 -1.00161973e+09 -4.56469472e+09\n",
      " -2.27256269e+08 -4.37291940e+08 -1.18903845e+09 -6.42766644e+08\n",
      "  2.37038711e+10 -2.08490546e+08  4.88390577e+08  1.33369564e+10\n",
      " -2.26843112e+09  1.29938126e-05  1.36089443e+09 -1.47883258e+09\n",
      " -4.01816290e+09  9.07689629e+07  5.37935378e+09 -4.74071595e+07\n",
      " -1.55094965e+09  7.60359713e+08 -2.98922022e+09 -1.29057644e+09\n",
      " -1.61928324e+08 -9.36626842e+08  9.35158587e+09  9.30854745e+08\n",
      " -2.30708677e+09  1.62146575e+08 -1.03424071e+08 -4.81086777e+08\n",
      " -5.16126307e+08  2.24882533e+09 -4.34307480e+09 -3.45925499e+09\n",
      " -2.90320152e+09 -7.81780652e+08 -3.19822224e+09  2.06361594e+09\n",
      " -2.05967106e+09 -5.40480081e+08 -3.00799769e+09  6.31795353e+08\n",
      " -1.03805300e+09 -3.51961115e+09 -6.16704067e+08 -1.27422344e+09\n",
      " -9.72870488e+08 -1.61110807e+09  8.50615997e+08  1.02507351e+09\n",
      " -1.51742503e+09 -1.08937033e+09 -1.02237517e+09 -3.13027494e+09\n",
      "  3.39915260e+09 -4.76118407e+09 -5.87167522e+08 -2.70035961e+09\n",
      " -3.35382633e+09  8.10623169e-06 -3.00405391e+08 -2.64367694e+08\n",
      "  1.96201837e+09 -3.33786011e-06 -6.63709017e+09  2.18779357e+07\n",
      " -4.52373505e+08 -6.43162464e+08 -1.66400352e+09  4.96583158e+09\n",
      "  7.62939453e-06 -2.89233145e+09 -3.15187560e+09 -7.31082548e+08\n",
      "  1.54248123e+09  1.32991247e+08 -2.94407669e+09 -2.32606612e+08\n",
      " -3.14787850e+08 -3.26400975e+08 -9.53674316e-06 -3.88206851e+09\n",
      "  4.00882136e+08  6.95317888e+08  2.25669873e+08  5.55151427e+09\n",
      " -9.02131891e+08 -1.06294965e+09 -1.23671471e+09 -8.30743087e+08\n",
      " -9.53674316e-07 -4.30797721e+08 -4.68299029e+08  1.22730227e+09\n",
      " -3.17564297e+09 -1.04596815e+09  1.96767864e+10 -4.84979399e+10\n",
      "  1.14448007e+10 -2.38529765e-06 -5.03555627e+08 -1.08780673e+09\n",
      "  5.12144721e+08 -3.12213885e+08 -1.81126338e+09  1.60705624e-03\n",
      "  1.30892836e+09  2.49526292e+09  9.12071759e+09  4.48346167e+08\n",
      "  0.00000000e+00]\n",
      "Intercept:  -2407561177.4874907\n"
     ]
    }
   ],
   "source": [
    "from sklearn import linear_model\n",
    "regr = linear_model.LinearRegression()\n",
    "regr.fit(X_train, y_train)\n",
    "print('Coefficients: ', regr.coef_)\n",
    "print('Intercept: ', regr.intercept_)"
   ]
  },
  {
   "cell_type": "code",
   "execution_count": 35,
   "id": "e7c6e152-a986-4188-aadc-bea2ee687760",
   "metadata": {},
   "outputs": [
    {
     "name": "stdout",
     "output_type": "stream",
     "text": [
      "MAE: 2098866283.2961886, MSE: 2.2087320991071445e+19, R2: 0.708058558962596\n"
     ]
    }
   ],
   "source": [
    "y_pred = regr.predict(X_test)\n",
    "mae = mean_absolute_error(y_test, y_pred)\n",
    "mse = mean_squared_error(y_test, y_pred)\n",
    "r2 = r2_score(y_test, y_pred)\n",
    "\n",
    "print(f'MAE: {mae}, MSE: {mse}, R2: {r2}')"
   ]
  },
  {
   "cell_type": "code",
   "execution_count": 45,
   "id": "290820aa-9d31-4feb-a7c9-57923095b88f",
   "metadata": {},
   "outputs": [
    {
     "name": "stdout",
     "output_type": "stream",
     "text": [
      "Predicted Prices (USD): [7.14114895e+09 2.22738419e+09 7.02797496e+09]\n"
     ]
    }
   ],
   "source": [
    "new_data = pd.DataFrame({\n",
    "    'Area': [120, 85, 150],\n",
    "    'Room': [3, 2, 4],\n",
    "    'Parking': [1, 0, 2],\n",
    "    'Warehouse': [1, 0, 1],\n",
    "    'Elevator': [1, 1, 1],\n",
    "    'Address': ['Abbasabad', 'Afsarieh', 'Abuzar']  \n",
    "})\n",
    "\n",
    "\n",
    "new_data_encoded = pd.get_dummies(new_data, columns=['Address'])\n",
    "\n",
    "new_data_encoded = new_data_encoded.reindex(columns=X.columns, fill_value=0)\n",
    "\n",
    "predictions = regr.predict(new_data_encoded)\n",
    "\n",
    "print(\"Predicted Prices (USD):\", predictions)\n",
    "\n"
   ]
  },
  {
   "cell_type": "code",
   "execution_count": 49,
   "id": "9fc24c88-df21-451b-b728-f8d05c55b6d6",
   "metadata": {},
   "outputs": [
    {
     "data": {
      "image/png": "[encoded data removed]",
      "text/plain": [
       "<Figure size 640x480 with 1 Axes>"
      ]
     },
     "metadata": {},
     "output_type": "display_data"
    },
    {
     "data": {
      "image/png": "[encoded data removed]",
      "text/plain": [
       "<Figure size 640x480 with 1 Axes>"
      ]
     },
     "metadata": {},
     "output_type": "display_data"
    }
   ],
   "source": [
    "y_pred = regr.predict(X)\n",
    "plt.scatter(y, y_pred)\n",
    "plt.xlabel('Actual Prices')\n",
    "plt.ylabel('Predicted Prices')\n",
    "plt.title('Actual vs. Predicted Prices')\n",
    "plt.show()\n",
    "\n",
    "residuals = y - y_pred\n",
    "sns.histplot(residuals, kde=True)\n",
    "plt.title('Distribution of Residuals')\n",
    "plt.xlabel('Residuals')\n",
    "plt.show()\n"
   ]
  }
 ],
 "metadata": {
  "kernelspec": {
   "display_name": "Python 3 (ipykernel)",
   "language": "python",
   "name": "python3"
  },
  "language_info": {
   "codemirror_mode": {
    "name": "ipython",
    "version": 3
   },
   "file_extension": ".py",
   "mimetype": "text/x-python",
   "name": "python",
   "nbconvert_exporter": "python",
   "pygments_lexer": "ipython3",
   "version": "3.12.4"
  }
 },
 "nbformat": 4,
 "nbformat_minor": 5
}
